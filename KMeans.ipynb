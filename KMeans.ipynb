{
 "cells": [
  {
   "cell_type": "code",
   "execution_count": null,
   "metadata": {},
   "outputs": [],
   "source": [
    "import numpy as np\n",
    "\n",
    "\n",
    "class KMeans(object):\n",
    "    def __init__(self, K, init):\n",
    "        self.K = K\n",
    "        self.cordcent = np.asarray(init)\n",
    "\n",
    "    def fit(self, X):\n",
    "        X = np.asarray(X)\n",
    "        while True:\n",
    "            X_cluster = np.zeros(X.shape[0], dtype=int)\n",
    "            for i in range(X.shape[0]):\n",
    "                distances = [np.linalg.norm(X[i] - self.cordcent[k]) for k in range(self.K)]\n",
    "                cluster = np.argmin(distances)\n",
    "                X_cluster[i] = cluster\n",
    "            X_mean = np.zeros(self.cordcent.shape)\n",
    "            X_cnt_in_cluster = np.zeros(self.K)\n",
    "            for i in range(X.shape[0]):\n",
    "                X_mean[X_cluster[i]] = X_mean[X_cluster[i]] + X[i]\n",
    "                X_cnt_in_cluster[X_cluster[i]] += 1\n",
    "            for i in range(self.K):\n",
    "                for j in range(self.cordcent.shape[1]):\n",
    "                    if X_cnt_in_cluster[i] != 0:\n",
    "                        X_mean[i][j] = X_mean[i][j] / X_cnt_in_cluster[i]\n",
    "            if np.max([np.linalg.norm(self.cordcent[i] - X_mean[i]) for i in range(self.K)]) < 0.001:\n",
    "                break\n",
    "            self.cordcent = X_mean\n",
    "\n",
    "    def predict(self, X):\n",
    "        X_cluster = np.zeros(X.shape[0], dtype=int)\n",
    "        X = np.asarray(X)\n",
    "        for i in range(X.shape[0]):\n",
    "            distances = [np.linalg.norm(X[i] - self.cordcent[k]) for k in range(self.K)]\n",
    "            cluster = np.argmin(distances) + 1\n",
    "            X_cluster[i] = cluster\n",
    "        return X_cluster"
   ]
  }
 ],
 "metadata": {
  "kernelspec": {
   "display_name": "Python 3",
   "language": "python",
   "name": "python3"
  },
  "language_info": {
   "codemirror_mode": {
    "name": "ipython",
    "version": 3
   },
   "file_extension": ".py",
   "mimetype": "text/x-python",
   "name": "python",
   "nbconvert_exporter": "python",
   "pygments_lexer": "ipython3",
   "version": "3.8.5"
  }
 },
 "nbformat": 4,
 "nbformat_minor": 4
}

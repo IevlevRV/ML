{
 "cells": [
  {
   "cell_type": "code",
   "execution_count": null,
   "metadata": {},
   "outputs": [],
   "source": [
    "import pandas as pd\n",
    "import numpy as np\n",
    "from sklearn.linear_model import LinearRegression\n",
    "\n",
    "data = pd.read_csv('./data.csv', sep = ',', header = None, names = ['x', 'y'])\n",
    "\n",
    "def form_features(x_data):\n",
    "    features = []\n",
    "        features.append([np.sin(x) ** 2,\n",
    "                        np.log(x) ** 2,\n",
    "                        np.sin(x) * np.log(x),\n",
    "                        x ** 2])\n",
    "    return features\n",
    "\n",
    "x_data = np.array(data['x'])\n",
    "y_data = np.array(data['y'])\n",
    "\n",
    "feat = form_features(x_data)\n",
    "\n",
    "reg = LinearRegression()\n",
    "reg.fit(feat, y_data)\n",
    "\n",
    "coef = reg.coef_\n",
    "\n",
    "a, b, c = coef[0] ** 0.5, coef[1] ** 0.5, coef[3]\n",
    "\n",
    "print(reg.intercept_, 2 * a * b - coef[2])\n",
    "\n",
    "print('{:.2f} {:.2f} {:.2f}'.format(a, b, c))"
   ]
  }
 ],
 "metadata": {
  "kernelspec": {
   "display_name": "Python 3",
   "language": "python",
   "name": "python3"
  },
  "language_info": {
   "codemirror_mode": {
    "name": "ipython",
    "version": 3
   },
   "file_extension": ".py",
   "mimetype": "text/x-python",
   "name": "python",
   "nbconvert_exporter": "python",
   "pygments_lexer": "ipython3",
   "version": "3.8.5"
  }
 },
 "nbformat": 4,
 "nbformat_minor": 4
}
